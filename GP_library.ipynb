{
 "cells": [
  {
   "cell_type": "code",
   "execution_count": 2,
   "metadata": {},
   "outputs": [],
   "source": [
    "import sklearn.gaussian_process as gp\n",
    "import numpy as np\n",
    "kernel = gp.kernels.ConstantKernel(1.0, (1e-1, 1e3)) * gp.kernels.RBF(10.0, (1e-3, 1e3))\n",
    "#creating dataset\n",
    "X_tr = np.array([-4, -3, -2, -1, 1]).reshape(-1, 1)\n",
    "y_tr = np.sin(X_tr)\n",
    "X_te = np.arange(-5, 5, 0.2).reshape(-1, 1)\n",
    "y_te = np.sin(X_te)\n",
    "\n",
    "model = gp.GaussianProcessRegressor(kernel=kernel, n_restarts_optimizer=10, alpha=0.1, normalize_y=True)\n",
    "\n",
    "model.fit(X_tr, y_tr)\n",
    "params = model.kernel_.get_params()\n",
    "\n",
    "y_pred, std = model.predict(X_te, return_std=True)\n",
    "\n",
    "MSE = ((y_pred-y_te)**2).mean()\n"
   ]
  },
  {
   "cell_type": "code",
   "execution_count": 3,
   "metadata": {},
   "outputs": [
    {
     "data": {
      "text/plain": [
       "0.12142128635802224"
      ]
     },
     "execution_count": 3,
     "metadata": {},
     "output_type": "execute_result"
    }
   ],
   "source": [
    "MSE  #mean square error in prediction"
   ]
  },
  {
   "cell_type": "code",
   "execution_count": 4,
   "metadata": {},
   "outputs": [
    {
     "data": {
      "text/plain": [
       "array([[ 0.54745169],\n",
       "       [ 0.60634374],\n",
       "       [ 0.64552382],\n",
       "       [ 0.6587421 ],\n",
       "       [ 0.64108259],\n",
       "       [ 0.58964305],\n",
       "       [ 0.50401558],\n",
       "       [ 0.38648789],\n",
       "       [ 0.24193374],\n",
       "       [ 0.07741471],\n",
       "       [-0.09843627],\n",
       "       [-0.27614927],\n",
       "       [-0.44616226],\n",
       "       [-0.59948537],\n",
       "       [-0.72822536],\n",
       "       [-0.82595016],\n",
       "       [-0.88790744],\n",
       "       [-0.91113352],\n",
       "       [-0.89449466],\n",
       "       [-0.83869404],\n",
       "       [-0.74625773],\n",
       "       [-0.62149103],\n",
       "       [-0.47037696],\n",
       "       [-0.30038069],\n",
       "       [-0.12012707],\n",
       "       [ 0.06106365],\n",
       "       [ 0.23377003],\n",
       "       [ 0.38915013],\n",
       "       [ 0.51963711],\n",
       "       [ 0.61956094],\n",
       "       [ 0.68560583],\n",
       "       [ 0.71703079],\n",
       "       [ 0.71561394],\n",
       "       [ 0.68532506],\n",
       "       [ 0.63177516],\n",
       "       [ 0.56152692],\n",
       "       [ 0.48136894],\n",
       "       [ 0.39765478],\n",
       "       [ 0.31578793],\n",
       "       [ 0.23990063],\n",
       "       [ 0.172737  ],\n",
       "       [ 0.11571721],\n",
       "       [ 0.06913559],\n",
       "       [ 0.03243517],\n",
       "       [ 0.004503  ],\n",
       "       [-0.01605826],\n",
       "       [-0.03071093],\n",
       "       [-0.04082741],\n",
       "       [-0.0475983 ],\n",
       "       [-0.05199348]])"
      ]
     },
     "execution_count": 4,
     "metadata": {},
     "output_type": "execute_result"
    }
   ],
   "source": [
    "y_pred"
   ]
  },
  {
   "cell_type": "code",
   "execution_count": null,
   "metadata": {},
   "outputs": [],
   "source": []
  }
 ],
 "metadata": {
  "kernelspec": {
   "display_name": "Python 2",
   "language": "python",
   "name": "python2"
  },
  "language_info": {
   "codemirror_mode": {
    "name": "ipython",
    "version": 2
   },
   "file_extension": ".py",
   "mimetype": "text/x-python",
   "name": "python",
   "nbconvert_exporter": "python",
   "pygments_lexer": "ipython2",
   "version": "2.7.12"
  }
 },
 "nbformat": 4,
 "nbformat_minor": 2
}
