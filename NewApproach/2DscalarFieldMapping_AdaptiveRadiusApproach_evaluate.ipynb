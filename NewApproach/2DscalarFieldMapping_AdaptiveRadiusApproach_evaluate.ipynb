{
 "cells": [
  {
   "cell_type": "code",
   "execution_count": 69,
   "metadata": {},
   "outputs": [],
   "source": [
    "# coding: utf-8\n",
    "from mpl_toolkits.mplot3d import Axes3D\n",
    "from matplotlib import pylab as plt\n",
    "import numpy as np\n",
    "from sklearn.gaussian_process import GaussianProcessRegressor\n",
    "import numpy as np\n",
    "from matplotlib import pyplot as plt \n",
    "%matplotlib inline\n",
    "import matplotlib.colors as colors\n",
    "import matplotlib.cm as cm \n",
    "import math\n",
    "import time\n",
    "#GP-UCB Code\n",
    "class GPUCB(object):\n",
    "\n",
    "  def __init__(self, meshgrid, environment, beta=100):\n",
    "    '''\n",
    "    beta (optional): Hyper-parameter to tune the exploration-exploitation\n",
    "    balance. If beta is large, it emphasizes the variance of the unexplored\n",
    "    solution solution (i.e. larger curiosity)\n",
    "    '''\n",
    "    self.meshgrid = np.array(meshgrid)\n",
    "    self.environment = environment\n",
    "    self.beta = beta\n",
    "    self.neighbours_considered  = 5\n",
    "    self.X_grid = self.meshgrid.reshape(self.meshgrid.shape[0], -1).T\n",
    "    #print(self.X_grid)\n",
    "    self.mu = np.array([0. for _ in range(self.X_grid.shape[0])])\n",
    "    #print(self.mu.shape)\n",
    "    self.sigma = np.array([0.5 for _ in range(self.X_grid.shape[0])])\n",
    "    self.X = []\n",
    "    self.T = []\n",
    "    self.index_value = 0\n",
    "    self.sampling_index = []\n",
    "    \n",
    "  def distance(self, x1 , y1 , x2 , y2): \n",
    "  \n",
    "    # Calculating distance \n",
    "    return math.sqrt(math.pow(x2 - x1, 2) +\n",
    "                math.pow(y2 - y1, 2) * 1.0)              \n",
    "\n",
    "  def argmax_ucb(self):\n",
    "    dist = 0\n",
    "    #index_value = np.argmax(self.mu + self.sigma * np.sqrt(self.beta))\n",
    "    prev_index_value = self.index_value\n",
    "    #print type(self.X_grid)\n",
    "    prev_sampling_loc = self.X_grid[self.index_value]\n",
    "    #print prev_index_value, prev_sampling_loc\n",
    "    min_mu = min(self.mu)\n",
    "    min_sigma =  min(self.sigma)\n",
    "    n = self.neighbours_considered\n",
    "    t = 0\n",
    "    for i in range(len(self.mu)):\n",
    "        if prev_index_value-self.neighbours_considered <= i <= prev_index_value+self.neighbours_considered:\n",
    "            if t==0:\n",
    "                #print \"c\",i\n",
    "                t += 1\n",
    "                indx1 = i\n",
    "                continue\n",
    "            else:\n",
    "                #print \"c\",i\n",
    "                t+=1\n",
    "                continue  \n",
    "             \n",
    "    #print indx1, t\n",
    "    for  j in range(self.neighbours_considered):\n",
    "      for i in range(len(self.mu)):\n",
    "        indx_l = indx1 - 24*(j+1)\n",
    "        indx_u = indx1+t - 24*(j+1)\n",
    "        indx_l1 = indx1 + 24*(j+1)\n",
    "        indx_u1 = indx1+t + 24*(j+1)\n",
    "        if i in self.sampling_index:\n",
    "            self.mu[i]= min_mu\n",
    "            self.sigma[i] = min_sigma\n",
    "            continue\n",
    "        if prev_index_value-self.neighbours_considered <= i <= prev_index_value+self.neighbours_considered:\n",
    "                   continue             \n",
    "                \n",
    "        elif indx_l <= i < indx_u:\n",
    "                    #print indx_l, indx_u\n",
    "                    #print \"_c\",i\n",
    "                    continue\n",
    "                \n",
    "        elif indx_l1 <= i < indx_u1:\n",
    "                    #print \"___c\",i\n",
    "                    continue\n",
    "                \n",
    "        \n",
    "         \n",
    "        self.mu[i]= min_mu\n",
    "        self.sigma[i] = min_sigma\n",
    "    matrix = self.mu + self.sigma * np.sqrt(self.beta)\n",
    "    #plt.pcolormesh(self.meshgrid[0], self.meshgrid[1],matrix.reshape(self.meshgrid[0].shape))\n",
    "    #plt.title(\"Checking...\")\n",
    "    \n",
    "    self.index_value = np.argmax(self.mu + self.sigma * np.sqrt(self.beta))\n",
    "\n",
    "    self.sampling_index.append(self.index_value)\n",
    "    predicted_value = self.mu[self.index_value]\n",
    "    if len(self.X)>0:\n",
    "        P = self.X[-1]\n",
    "        Q = self.X_grid[self.index_value]\n",
    "        #print \"dist\",self.distance(P[0],P[1],Q[0],Q[1])\n",
    "        dist=self.distance(P[0],P[1],Q[0],Q[1])\n",
    "    true_value = self.sample(self.X_grid[self.index_value])\n",
    "    \n",
    "    if abs(true_value - predicted_value) > 0.50:\n",
    "        self.neighbours_considered -= 4\n",
    "        #print \"radius decreased to \",self.neighbours_considered\n",
    "    elif abs(true_value - predicted_value) < 0.25:\n",
    "        self.neighbours_considered += 4\n",
    "        #print \"radius increased to \",self.neighbours_considered\n",
    "    return dist\n",
    "\n",
    "  \n",
    "\n",
    "  def learn(self):\n",
    "    d = self.argmax_ucb()\n",
    "    gp = GaussianProcessRegressor()\n",
    "    gp.fit(self.X, self.T)\n",
    "    #print gp.score(self.X, self.T)\n",
    "    self.mu, self.sigma = gp.predict(self.X_grid, return_std=True)\n",
    "    \n",
    "    return self.mu,d\n",
    "    #check info gain and change neighboursconsidered\n",
    "\n",
    "  def sample(self, x):\n",
    "    t = self.environment.sample(x)\n",
    "    self.X.append(x)\n",
    "    self.T.append(t)\n",
    "    #print \"value after\", t\n",
    "    return t\n",
    "    \n",
    "\n",
    "  def plot(self):\n",
    "    \n",
    "    fig = plt.figure(figsize=(18, 8))\n",
    "    fig.suptitle(\"Iteration %02d\" %len(self.X))\n",
    "    \n",
    "    ax = fig.add_subplot(1, 2, 1, projection='3d')\n",
    "    ax.plot_wireframe(self.meshgrid[0], self.meshgrid[1],\n",
    "        self.mu.reshape(self.meshgrid[0].shape), alpha=0.5, color='g')\n",
    "    ax.plot_wireframe(self.meshgrid[0], self.meshgrid[1],\n",
    "        self.environment.sample(self.meshgrid), alpha=0.5, color='b')\n",
    "    ax.scatter([x[0] for x in self.X], [x[1] for x in self.X], self.T, c='r',\n",
    "        marker='o', alpha=1.0)\n",
    "    ax1 = fig.add_subplot(1, 2, 2)\n",
    "    ax1 = plt.subplot(122)\n",
    "    ax1.pcolormesh(self.meshgrid[0], self.meshgrid[1],self.mu.reshape(self.meshgrid[0].shape))\n",
    "  \n",
    "    plt.savefig('fig_%02d.png' % len(self.X))\n",
    "\n",
    "\n"
   ]
  },
  {
   "cell_type": "code",
   "execution_count": 70,
   "metadata": {},
   "outputs": [
    {
     "data": {
      "image/png": "[encoded data removed]",
      "text/plain": [
       "<Figure size 432x288 with 1 Axes>"
      ]
     },
     "metadata": {
      "needs_background": "light"
     },
     "output_type": "display_data"
    }
   ],
   "source": [
    "if __name__ == '__main__':\n",
    "  class DummyEnvironment(object):\n",
    "    def sample(self, j):\n",
    "      return np.sinc(j[0])+np.sin(j[1])+np.cos(j[0]-j[1])\n",
    "\n",
    "  x = np.arange(-3, 3, 0.25)\n",
    "  y = np.arange(-3, 3, 0.25)\n",
    "  env = DummyEnvironment()\n",
    "  agent = GPUCB(np.meshgrid(x, y), env)\n",
    "\n",
    "  #Actual Field\n",
    "  X, Y = np.meshgrid(x, y) \n",
    "  #Z = np.sinc(X)+ np.sin(Y)\n",
    "  Z = np.sinc(X)+ np.sin(Y)+ np.cos(X-Y)\n",
    "  plt.pcolormesh(X,Y,Z)\n",
    "  plt.title(\"Actual Field\")\n",
    "  \n",
    "  "
   ]
  },
  {
   "cell_type": "code",
   "execution_count": 71,
   "metadata": {
    "scrolled": true
   },
   "outputs": [
    {
     "name": "stdout",
     "output_type": "stream",
     "text": [
      "0.479411\n",
      "45.679569795\n"
     ]
    }
   ],
   "source": [
    "#Mapping the Field--\n",
    "l = 0\n",
    "start = time.clock()\n",
    "for i in range(10):\n",
    "    #print \"Sampling Location \"+ str(i) + \" is\" \n",
    "    predicted,d = agent.learn()\n",
    "    l+=d\n",
    "    #agent.plot()\n",
    "print time.clock()-start\n",
    "print l/(0.25)"
   ]
  },
  {
   "cell_type": "code",
   "execution_count": 72,
   "metadata": {
    "scrolled": true
   },
   "outputs": [
    {
     "data": {
      "text/plain": [
       "388.02342637298364"
      ]
     },
     "execution_count": 72,
     "metadata": {},
     "output_type": "execute_result"
    }
   ],
   "source": [
    "\n",
    "k=0\n",
    "error = []\n",
    "for i in Z:\n",
    "    for j in i:\n",
    "        error.append(abs(j-predicted[k]))\n",
    "        k+=1\n",
    "        \n",
    "MappingError = sum(error)\n",
    "MappingError"
   ]
  },
  {
   "cell_type": "code",
   "execution_count": null,
   "metadata": {},
   "outputs": [],
   "source": []
  },
  {
   "cell_type": "code",
   "execution_count": null,
   "metadata": {},
   "outputs": [],
   "source": []
  },
  {
   "cell_type": "code",
   "execution_count": null,
   "metadata": {},
   "outputs": [],
   "source": []
  }
 ],
 "metadata": {
  "kernelspec": {
   "display_name": "Python 2",
   "language": "python",
   "name": "python2"
  },
  "language_info": {
   "codemirror_mode": {
    "name": "ipython",
    "version": 2
   },
   "file_extension": ".py",
   "mimetype": "text/x-python",
   "name": "python",
   "nbconvert_exporter": "python",
   "pygments_lexer": "ipython2",
   "version": "2.7.12"
  }
 },
 "nbformat": 4,
 "nbformat_minor": 2
}
