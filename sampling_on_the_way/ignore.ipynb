{
 "cells": [
  {
   "cell_type": "code",
   "execution_count": 32,
   "source": [
    "import numpy as np\n",
    "import matplotlib.pyplot as plt"
   ],
   "outputs": [],
   "metadata": {}
  },
  {
   "cell_type": "code",
   "execution_count": 33,
   "source": [
    "a = np.array([0, 0])\n",
    "b = np.array([20, 10])\n",
    "osp = 0.25"
   ],
   "outputs": [],
   "metadata": {}
  },
  {
   "cell_type": "code",
   "execution_count": 34,
   "source": [
    "def get_y(P, Q, x):\n",
    "    value = (x - P[0])*(Q[1] - P[1])/(Q[0]-P[0]) + P[1] # (x-X1)x(Y2 - Y1)/(X2-X1) + Y2\n",
    "    return value\n",
    "\n",
    "\n",
    "def get_x(P, Q, y):\n",
    "    value = (y - P[1])*(Q[0] - P[0])/(Q[1]-P[1]) + P[0]\n",
    "    return value"
   ],
   "outputs": [],
   "metadata": {}
  },
  {
   "cell_type": "code",
   "execution_count": 49,
   "source": [
    "a = np.array([0, 0])\n",
    "b = np.array([15, 15])\n",
    "osp = 0.25\n",
    "\n",
    "x = []\n",
    "i = a[0]\n",
    "while (i + (0.25/osp) < b[0]):\n",
    "    x.append(i)\n",
    "    i += (0.25/osp)\n",
    "\n",
    "y = []\n",
    "for i in x:\n",
    "    y.append(get_y(a, b, i))\n",
    "\n",
    "plt.scatter(x, y)\n",
    "print(np.hypot((x[1]-x[2]), (y[1]-y[2])))"
   ],
   "outputs": [
    {
     "output_type": "stream",
     "name": "stdout",
     "text": [
      "1.4142135623730951\n"
     ]
    },
    {
     "output_type": "display_data",
     "data": {
      "text/plain": [
       "<Figure size 432x288 with 1 Axes>"
      ],
      "image/png": "[encoded data removed]"
     },
     "metadata": {
      "needs_background": "light"
     }
    }
   ],
   "metadata": {}
  },
  {
   "cell_type": "code",
   "execution_count": 55,
   "source": [
    "np.hypot(15,15)/15"
   ],
   "outputs": [
    {
     "output_type": "execute_result",
     "data": {
      "text/plain": [
       "1.4142135623730951"
      ]
     },
     "metadata": {},
     "execution_count": 55
    }
   ],
   "metadata": {}
  },
  {
   "cell_type": "code",
   "execution_count": null,
   "source": [],
   "outputs": [],
   "metadata": {}
  }
 ],
 "metadata": {
  "orig_nbformat": 4,
  "language_info": {
   "name": "python",
   "version": "3.8.5",
   "mimetype": "text/x-python",
   "codemirror_mode": {
    "name": "ipython",
    "version": 3
   },
   "pygments_lexer": "ipython3",
   "nbconvert_exporter": "python",
   "file_extension": ".py"
  },
  "kernelspec": {
   "name": "python3",
   "display_name": "Python 3.8.5 64-bit ('prithvi': conda)"
  },
  "interpreter": {
   "hash": "6382069a7793f11ca2e4d453d6ea9dbfa636d21dc26e68dacc4c30284fcf592e"
  }
 },
 "nbformat": 4,
 "nbformat_minor": 2
}